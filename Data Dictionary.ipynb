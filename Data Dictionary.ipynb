{
 "cells": [
  {
   "cell_type": "markdown",
   "id": "625cd5f3-58a9-42a4-84df-c71f1b5d1ac0",
   "metadata": {},
   "source": [
    "| Variable    | Data Type |  Description    | Unit|\n",
    "| --------  | -------  |  ------- |-------|\n",
    "| Bedroom | Integer | Number of bedroom in home| Count|\n",
    "| Bathroom| Float | Number of bathrrom in home including fractional bathroom| Count|\n",
    "|Square Feet| Float number| The total square footage of the property| Square feet|\n",
    "| Lotsize| Integer| The size of the land on which the property is built| Square feet|\n",
    "| Age| Integer| The age of the property calculate from the year it was built to the current year| Years|\n",
    "| Assesses Value| Float| The value of the property as assessed for tax purposes| Currency(USD)\n",
    "| TaxAmount| Float| the total annual property tax amount| currency(USD)\n",
    "| County| String| the county where the property is located| Text| Text|\n",
    "| Latitude| Float| Indicating north-south position on earth's surface| Degrees(Decimal)|\n",
    "| Longitude| Float| Indicating east-west position on earth's surface| Degrees(Decimal)|\n"
   ]
  },
  {
   "cell_type": "code",
   "execution_count": null,
   "id": "7b9fa784-a72d-44a1-a717-db135a16034c",
   "metadata": {},
   "outputs": [],
   "source": []
  }
 ],
 "metadata": {
  "kernelspec": {
   "display_name": "Python 3 (ipykernel)",
   "language": "python",
   "name": "python3"
  },
  "language_info": {
   "codemirror_mode": {
    "name": "ipython",
    "version": 3
   },
   "file_extension": ".py",
   "mimetype": "text/x-python",
   "name": "python",
   "nbconvert_exporter": "python",
   "pygments_lexer": "ipython3",
   "version": "3.10.12"
  }
 },
 "nbformat": 4,
 "nbformat_minor": 5
}
